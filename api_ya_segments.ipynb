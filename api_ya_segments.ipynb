{
 "cells": [
  {
   "cell_type": "markdown",
   "id": "f155b68c",
   "metadata": {},
   "source": [
    "# Yandex.Audience (Яндекс-Аудитории)"
   ]
  },
  {
   "cell_type": "markdown",
   "id": "2ecb8ac2",
   "metadata": {},
   "source": [
    "Базовые функции управления сегментами (используется для управления рекламной кампанией)"
   ]
  },
  {
   "cell_type": "code",
   "execution_count": 2,
   "id": "d7dae0db",
   "metadata": {},
   "outputs": [],
   "source": [
    "import json\n",
    "import requests\n",
    "\n",
    "from lib_yaaudience.__init__ import *\n",
    "from lib_yaaudience.client import *\n",
    "from lib_yaaudience.core import *\n",
    "from lib_yaaudience.objects import *\n",
    "\n",
    "import pandas as pd\n",
    "import time\n",
    "import gspread\n",
    "from oauth2client.service_account import ServiceAccountCredentials\n",
    "\n",
    "# Вывод всех операций в Jupyter\n",
    "from IPython.core.interactiveshell import InteractiveShell\n",
    "InteractiveShell.ast_node_interactivity = \"all\"\n",
    "\n",
    "import logging\n",
    "# Чтобы выводить на экран\n",
    "logger = logging.getLogger()\n",
    "logger.setLevel(logging.INFO)"
   ]
  },
  {
   "cell_type": "markdown",
   "id": "6cdeaba7",
   "metadata": {},
   "source": [
    "### Параметры доступа к Я-Аудитории"
   ]
  },
  {
   "cell_type": "code",
   "execution_count": 3,
   "id": "2d8bc36b",
   "metadata": {},
   "outputs": [],
   "source": [
    "# Токен от Яндекс_метрики\n",
    "token_YM = '******************************************'\n",
    "\n",
    "headers = {\n",
    "    \"Host\": \"api-audience.yandex.ru\",\n",
    "    \"Authorization\": \"OAuth \" + token_YM,\n",
    "    \"Content-Type\": \"application/json\",\n",
    "    \"Content-Length\": \"123\"\n",
    "}\n",
    "\n",
    "# Создание объекта для оберточной API\n",
    "ya = YaAudience(token=token_YM)"
   ]
  },
  {
   "cell_type": "code",
   "execution_count": null,
   "id": "daa66c94",
   "metadata": {},
   "outputs": [],
   "source": []
  },
  {
   "cell_type": "markdown",
   "id": "6b4ef27c",
   "metadata": {},
   "source": [
    "# Удалить сегмент"
   ]
  },
  {
   "cell_type": "code",
   "execution_count": 18,
   "id": "a7f0bf9a",
   "metadata": {},
   "outputs": [
    {
     "data": {
      "text/plain": [
       "<Response [200]>"
      ]
     },
     "execution_count": 18,
     "metadata": {},
     "output_type": "execute_result"
    },
    {
     "data": {
      "text/plain": [
       "'{\"success\":true}'"
      ]
     },
     "execution_count": 18,
     "metadata": {},
     "output_type": "execute_result"
    }
   ],
   "source": [
    "# https://yandex.ru/dev/audience/doc/segments/delete.html\n",
    "\n",
    "# идентификатор сегмента\n",
    "segmentId = 25621611\n",
    "\n",
    "URL = 'https://api-audience.yandex.ru/v1/management/segment/'\n",
    "URL = URL + str(segmentId) + \"?\"\n",
    "\n",
    "req = requests.delete(URL, headers=headers)\n",
    "req\n",
    "req.text"
   ]
  },
  {
   "cell_type": "markdown",
   "id": "60b5434d",
   "metadata": {},
   "source": [
    "### через ya-api"
   ]
  },
  {
   "cell_type": "code",
   "execution_count": 10,
   "id": "234587c7",
   "metadata": {},
   "outputs": [
    {
     "data": {
      "text/plain": [
       "True"
      ]
     },
     "execution_count": 10,
     "metadata": {},
     "output_type": "execute_result"
    }
   ],
   "source": [
    "ya.segment_delete(25514140)"
   ]
  },
  {
   "cell_type": "markdown",
   "id": "805bfba2",
   "metadata": {},
   "source": [
    "# *** Вывести список всех сегментов"
   ]
  },
  {
   "cell_type": "markdown",
   "id": "cf056b2e",
   "metadata": {},
   "source": [
    "Статус обработки сегмента:\n",
    "* uploaded — сегмент с данными пользователя загружен;\n",
    "* is_processed — сегмент с заданными параметрами обрабатывается;\n",
    "* processed — загрузка и обработка сегмента завершена. Сегмент готов для работы;\n",
    "* processing_failed — обработка сегмента завершилась с ошибкой;\n",
    "* is_updated — сегмент обновляется;\n",
    "* few_data — сегмент содержит мало данных для работы."
   ]
  },
  {
   "cell_type": "code",
   "execution_count": 25,
   "id": "25d0bd8d",
   "metadata": {},
   "outputs": [
    {
     "data": {
      "text/plain": [
       "<Response [200]>"
      ]
     },
     "execution_count": 25,
     "metadata": {},
     "output_type": "execute_result"
    },
    {
     "data": {
      "text/plain": [
       "'{\"segments\":[{\"id\":24286352,\"name\":\"test____segment_geo\",\"type\":\"geo\",\"status\":\"processed\",\"create_time\":\"2022-07-11T16:50:49+03:00\",\"owner\":\"smbz-demis\",\"has_guests\":false,\"guest_quantity\":0,\"can_create_dependent\":false,\"has_derivatives\":false,\"cookies_matched_quantity\":83520,\"geo_segment_type\":\"last\",\"times_quantity\":0,\"period_length\":0,\"form\":\"circle\",\"radius\":1000,\"points\":[{\"latitude\":55.812948,\"longitude\":37.650164,\"description\":\"test_comment\"}],\"too_much_data\":false,\"guest\":false},{\"id\":24286564,\"name\":\"test____segment_from_metrika\",\"type\":\"metrika\",\"status\":\"processed\",\"create_time\":\"2022-07-11T16:55:28+03:00\",\"owner\":\"smbz-demis\",\"has_guests\":false,\"guest_quantity\":0,\"can_create_dependent\":true,\"has_derivatives\":false,\"cookies_matched_quantity\":948,\"metrika_segment_type\":\"goal_id\",\"metrika_segment_id\":222601576,\"guest\":false},{\"id\":24309942,\"name\":\"test____segment_geo_12\",\"type\":\"geo\",\"status\":\"few_data\",\"create_time\":\"2022-07-12T10:40:02+03:00\",\"owner\":\"smbz-demis\",\"has_guests\":false,\"guest_quantity\":0,\"can_create_dependent\":false,\"has_derivatives\":false,\"cookies_matched_quantity\":0,\"geo_segment_type\":\"last\",\"times_quantity\":0,\"period_length\":0,\"form\":\"circle\",\"radius\":2000,\"points\":[{\"latitude\":67.812948,\"longitude\":49.650164,\"description\":\"test_comment_12\"}],\"guest\":false}]}'"
      ]
     },
     "execution_count": 25,
     "metadata": {},
     "output_type": "execute_result"
    }
   ],
   "source": [
    "# https://yandex.ru/dev/audience/doc/segments/segments.html\n",
    "\n",
    "URL = 'https://api-audience.yandex.ru/v1/management/segments'\n",
    "\n",
    "req = requests.get(URL, headers=headers)\n",
    "req\n",
    "req.text"
   ]
  },
  {
   "cell_type": "markdown",
   "id": "cb14e6c4",
   "metadata": {},
   "source": [
    "### через ya-api"
   ]
  },
  {
   "cell_type": "code",
   "execution_count": 9,
   "id": "7e711813",
   "metadata": {
    "scrolled": false
   },
   "outputs": [
    {
     "data": {
      "text/plain": [
       "[-----------------------------\n",
       " \n",
       " <SegmentObject{'id': 24396340, 'name': 'test____segment_csv_01', 'type': 'uploading', 'status': 'few_data', 'create_time': datetime.datetime(2022, 7, 14, 15, 59, 34, tzinfo=datetime.timezone(datetime.timedelta(seconds=10800))), 'owner': 'smbz-demis', 'has_guests': False, 'guest_quantity': 0, 'can_create_dependent': False, 'has_derivatives': False, 'cookies_matched_quantity': 2, 'hashed': False, 'content_type': 'crm', 'item_quantity': 188, 'valid_unique_quantity': 188, 'valid_unique_percentage': '100%', 'matched_quantity': 1, 'matched_percentage': '0.53%', 'counter_id': 0, 'guest': False}>\n",
       " \n",
       " -----------------------------,\n",
       " -----------------------------\n",
       " \n",
       " <SegmentObject{'id': 24733284, 'name': 'test____segment_from_metrika_02', 'type': 'metrika', 'status': 'processed', 'create_time': datetime.datetime(2022, 7, 20, 8, 25, 28, tzinfo=datetime.timezone(datetime.timedelta(seconds=10800))), 'owner': 'smbz-demis', 'has_guests': False, 'guest_quantity': 0, 'can_create_dependent': True, 'has_derivatives': False, 'cookies_matched_quantity': 696, 'hashed': None, 'content_type': None, 'item_quantity': None, 'valid_unique_quantity': None, 'valid_unique_percentage': None, 'matched_quantity': None, 'matched_percentage': None, 'counter_id': None, 'guest': False}>\n",
       " \n",
       " -----------------------------,\n",
       " -----------------------------\n",
       " \n",
       " <SegmentObject{'id': 24733308, 'name': 'test____segment_geo_03', 'type': 'geo', 'status': 'few_data', 'create_time': datetime.datetime(2022, 7, 20, 8, 28, 17, tzinfo=datetime.timezone(datetime.timedelta(seconds=10800))), 'owner': 'smbz-demis', 'has_guests': False, 'guest_quantity': 0, 'can_create_dependent': False, 'has_derivatives': False, 'cookies_matched_quantity': 0, 'hashed': None, 'content_type': None, 'item_quantity': None, 'valid_unique_quantity': None, 'valid_unique_percentage': None, 'matched_quantity': None, 'matched_percentage': None, 'counter_id': None, 'guest': False}>\n",
       " \n",
       " -----------------------------,\n",
       " -----------------------------\n",
       " \n",
       " <SegmentObject{'id': 24748269, 'name': 'test____segment_geo_04', 'type': 'geo', 'status': 'few_data', 'create_time': datetime.datetime(2022, 7, 20, 13, 23, 28, tzinfo=datetime.timezone(datetime.timedelta(seconds=10800))), 'owner': 'smbz-demis', 'has_guests': False, 'guest_quantity': 0, 'can_create_dependent': False, 'has_derivatives': False, 'cookies_matched_quantity': 0, 'hashed': None, 'content_type': None, 'item_quantity': None, 'valid_unique_quantity': None, 'valid_unique_percentage': None, 'matched_quantity': None, 'matched_percentage': None, 'counter_id': None, 'guest': False}>\n",
       " \n",
       " -----------------------------,\n",
       " -----------------------------\n",
       " \n",
       " <SegmentObject{'id': 24770767, 'name': 'test____segment_geo_04', 'type': 'geo', 'status': 'processed', 'create_time': datetime.datetime(2022, 7, 20, 21, 58, 31, tzinfo=datetime.timezone(datetime.timedelta(seconds=10800))), 'owner': 'smbz-demis', 'has_guests': False, 'guest_quantity': 0, 'can_create_dependent': True, 'has_derivatives': False, 'cookies_matched_quantity': 10344, 'hashed': None, 'content_type': None, 'item_quantity': None, 'valid_unique_quantity': None, 'valid_unique_percentage': None, 'matched_quantity': None, 'matched_percentage': None, 'counter_id': None, 'guest': False}>\n",
       " \n",
       " -----------------------------,\n",
       " -----------------------------\n",
       " \n",
       " <SegmentObject{'id': 25038024, 'name': 'test____segment_csv_05', 'type': 'uploading', 'status': 'few_data', 'create_time': datetime.datetime(2022, 7, 25, 17, 50, 8, tzinfo=datetime.timezone(datetime.timedelta(seconds=10800))), 'owner': 'smbz-demis', 'has_guests': False, 'guest_quantity': 0, 'can_create_dependent': False, 'has_derivatives': False, 'cookies_matched_quantity': 25, 'hashed': False, 'content_type': 'client_id', 'item_quantity': 1152, 'valid_unique_quantity': 1152, 'valid_unique_percentage': '100%', 'matched_quantity': 25, 'matched_percentage': '2.17%', 'counter_id': 65071099, 'guest': False}>\n",
       " \n",
       " -----------------------------,\n",
       " -----------------------------\n",
       " \n",
       " <SegmentObject{'id': 25072651, 'name': 'test____segment_csv_05__10000', 'type': 'uploading', 'status': 'processed', 'create_time': datetime.datetime(2022, 7, 26, 14, 2, 34, tzinfo=datetime.timezone(datetime.timedelta(seconds=10800))), 'owner': 'smbz-demis', 'has_guests': False, 'guest_quantity': 0, 'can_create_dependent': True, 'has_derivatives': False, 'cookies_matched_quantity': 10182, 'hashed': False, 'content_type': 'client_id', 'item_quantity': 10000, 'valid_unique_quantity': 10000, 'valid_unique_percentage': '100%', 'matched_quantity': 10182, 'matched_percentage': '101.82%', 'counter_id': 65071099, 'guest': False}>\n",
       " \n",
       " -----------------------------,\n",
       " -----------------------------\n",
       " \n",
       " <SegmentObject{'id': 25152175, 'name': 'test____segment_csv_05__10000', 'type': 'uploading', 'status': 'processed', 'create_time': datetime.datetime(2022, 7, 28, 11, 3, 11, tzinfo=datetime.timezone(datetime.timedelta(seconds=10800))), 'owner': 'smbz-demis', 'has_guests': False, 'guest_quantity': 0, 'can_create_dependent': True, 'has_derivatives': False, 'cookies_matched_quantity': 261, 'hashed': False, 'content_type': 'client_id', 'item_quantity': 5000, 'valid_unique_quantity': 5000, 'valid_unique_percentage': '100%', 'matched_quantity': 261, 'matched_percentage': '5.22%', 'counter_id': 65071099, 'guest': False}>\n",
       " \n",
       " -----------------------------,\n",
       " -----------------------------\n",
       " \n",
       " <SegmentObject{'id': 25152190, 'name': 'test____segment_csv_06__5000', 'type': 'uploading', 'status': 'processed', 'create_time': datetime.datetime(2022, 7, 28, 11, 4, 20, tzinfo=datetime.timezone(datetime.timedelta(seconds=10800))), 'owner': 'smbz-demis', 'has_guests': False, 'guest_quantity': 0, 'can_create_dependent': True, 'has_derivatives': False, 'cookies_matched_quantity': 261, 'hashed': False, 'content_type': 'client_id', 'item_quantity': 5000, 'valid_unique_quantity': 5000, 'valid_unique_percentage': '100%', 'matched_quantity': 261, 'matched_percentage': '5.22%', 'counter_id': 65071099, 'guest': False}>\n",
       " \n",
       " -----------------------------,\n",
       " -----------------------------\n",
       " \n",
       " <SegmentObject{'id': 25319859, 'name': 'test____segment_csv_07__4715', 'type': 'uploading', 'status': 'processed', 'create_time': datetime.datetime(2022, 8, 1, 23, 30, 48, tzinfo=datetime.timezone(datetime.timedelta(seconds=10800))), 'owner': 'smbz-demis', 'has_guests': False, 'guest_quantity': 0, 'can_create_dependent': True, 'has_derivatives': False, 'cookies_matched_quantity': 4779, 'hashed': False, 'content_type': 'client_id', 'item_quantity': 4715, 'valid_unique_quantity': 4715, 'valid_unique_percentage': '100%', 'matched_quantity': 4779, 'matched_percentage': '101.36%', 'counter_id': 65071099, 'guest': False}>\n",
       " \n",
       " -----------------------------,\n",
       " -----------------------------\n",
       " \n",
       " <SegmentObject{'id': 25514140, 'name': 'test____segment_geo_04', 'type': 'geo', 'status': 'is_processed', 'create_time': datetime.datetime(2022, 8, 5, 17, 33, 21, tzinfo=datetime.timezone(datetime.timedelta(seconds=10800))), 'owner': 'smbz-demis', 'has_guests': False, 'guest_quantity': 0, 'can_create_dependent': False, 'has_derivatives': False, 'cookies_matched_quantity': None, 'hashed': None, 'content_type': None, 'item_quantity': None, 'valid_unique_quantity': None, 'valid_unique_percentage': None, 'matched_quantity': None, 'matched_percentage': None, 'counter_id': None, 'guest': False}>\n",
       " \n",
       " -----------------------------]"
      ]
     },
     "execution_count": 9,
     "metadata": {},
     "output_type": "execute_result"
    }
   ],
   "source": [
    "ya.segments()"
   ]
  },
  {
   "cell_type": "code",
   "execution_count": null,
   "id": "17906b07",
   "metadata": {},
   "outputs": [],
   "source": []
  },
  {
   "cell_type": "markdown",
   "id": "b7c16ee6",
   "metadata": {},
   "source": [
    "# reprocess - Пересчёт сегмента"
   ]
  },
  {
   "cell_type": "code",
   "execution_count": 78,
   "id": "082d5270",
   "metadata": {},
   "outputs": [
    {
     "data": {
      "text/plain": [
       "<Response [400]>"
      ]
     },
     "execution_count": 78,
     "metadata": {},
     "output_type": "execute_result"
    },
    {
     "data": {
      "text/plain": [
       "'{\"errors\":[{\"error_type\":\"reprocess_wrong_status\",\"message\":\"Segment 24286564 is in status is_updated and can not be reprocessed\"}],\"code\":400,\"message\":\"Segment 24286564 is in status is_updated and can not be reprocessed\"}'"
      ]
     },
     "execution_count": 78,
     "metadata": {},
     "output_type": "execute_result"
    }
   ],
   "source": [
    "# https://yandex.ru/dev/audience/doc/segments/reprocesssegment.html\n",
    "\n",
    "# идентификатор сегмента\n",
    "segmentId = 24286564\n",
    "\n",
    "URL = f\"https://api-audience.yandex.ru/v1/management/segment/{segmentId}/reprocess\"\n",
    "\n",
    "req = requests.put(URL, headers=headers)\n",
    "req\n",
    "req.text"
   ]
  },
  {
   "cell_type": "markdown",
   "id": "2d422e06",
   "metadata": {},
   "source": [
    "### через ya-api"
   ]
  },
  {
   "cell_type": "code",
   "execution_count": 3,
   "id": "b3cde03f",
   "metadata": {},
   "outputs": [
    {
     "data": {
      "text/plain": [
       "True"
      ]
     },
     "execution_count": 3,
     "metadata": {},
     "output_type": "execute_result"
    }
   ],
   "source": [
    "ya.segment_reprocess(24286352)"
   ]
  },
  {
   "cell_type": "code",
   "execution_count": null,
   "id": "39cbeea4",
   "metadata": {},
   "outputs": [],
   "source": []
  },
  {
   "cell_type": "markdown",
   "id": "a841dc00",
   "metadata": {},
   "source": [
    "# create_metrika - Создать сегмент по цели Яндекс-Метрики"
   ]
  },
  {
   "cell_type": "code",
   "execution_count": 17,
   "id": "45c5bad8",
   "metadata": {},
   "outputs": [
    {
     "data": {
      "text/plain": [
       "<Response [504]>"
      ]
     },
     "execution_count": 17,
     "metadata": {},
     "output_type": "execute_result"
    },
    {
     "data": {
      "text/plain": [
       "'Service unavailable'"
      ]
     },
     "execution_count": 17,
     "metadata": {},
     "output_type": "execute_result"
    }
   ],
   "source": [
    "# https://yandex.ru/dev/audience/doc/segments/createmetrika.html\n",
    "\n",
    "metrika_id = 222601576\n",
    "\n",
    "URL = \"https://api-audience.yandex.ru/v1/management/segments/create_metrika?\"\n",
    "\n",
    "\n",
    "body = {}\n",
    "body['segment'] = {}\n",
    "body['segment']['name'] = \"test____segment_from_metrika_02\"\n",
    "body['segment']['metrika_segment_type'] = \"goal_id\"\n",
    "body['segment']['metrika_segment_id'] = metrika_id\n",
    "\n",
    "\n",
    "# конвертируем словарь в JSON-формат и перекодируем в UTF-8\n",
    "body = json.dumps(body, ensure_ascii=False).encode('utf8')\n",
    "\n",
    "req = requests.post(URL, body, headers=headers)\n",
    "req\n",
    "req.text"
   ]
  },
  {
   "cell_type": "markdown",
   "id": "69fae282",
   "metadata": {},
   "source": [
    "### через ya-api"
   ]
  },
  {
   "cell_type": "code",
   "execution_count": 21,
   "id": "45d3a515",
   "metadata": {},
   "outputs": [
    {
     "data": {
      "text/plain": [
       "-----------------------------\n",
       "\n",
       "<SegmentObject{'id': 24307274, 'name': 'test____segment_from_metrika_09', 'type': 'metrika', 'status': 'is_processed', 'create_time': datetime.datetime(2022, 7, 12, 9, 53, 46, tzinfo=datetime.timezone(datetime.timedelta(seconds=10800))), 'owner': 'smbz-demis', 'has_guests': False, 'guest_quantity': 0, 'can_create_dependent': False, 'has_derivatives': False, 'cookies_matched_quantity': None, 'hashed': None, 'content_type': None, 'item_quantity': None, 'valid_unique_quantity': None, 'valid_unique_percentage': None, 'matched_quantity': None, 'matched_percentage': None, 'counter_id': None, 'guest': False}>\n",
       "\n",
       "-----------------------------"
      ]
     },
     "execution_count": 21,
     "metadata": {},
     "output_type": "execute_result"
    }
   ],
   "source": [
    "body = {}\n",
    "body['segment'] = {}\n",
    "body['segment']['name'] = \"test____segment_from_metrika_02\"\n",
    "body['segment']['metrika_segment_type'] = \"goal_id\"\n",
    "body['segment']['metrika_segment_id'] = 222601576\n",
    "\n",
    "# конвертируем словарь в JSON-формат и перекодируем в UTF-8\n",
    "body = json.dumps(body, ensure_ascii=False)\n",
    "\n",
    "ya.segments_create_metrika(body)"
   ]
  },
  {
   "cell_type": "code",
   "execution_count": null,
   "id": "29cac992",
   "metadata": {},
   "outputs": [],
   "source": []
  },
  {
   "cell_type": "markdown",
   "id": "f41ff6b0",
   "metadata": {},
   "source": [
    "# create_geo - Создание сегмента с типом «геолокация-окружности»"
   ]
  },
  {
   "cell_type": "code",
   "execution_count": 8,
   "id": "d33e3b0a",
   "metadata": {},
   "outputs": [
    {
     "data": {
      "text/plain": [
       "<Response [200]>"
      ]
     },
     "execution_count": 8,
     "metadata": {},
     "output_type": "execute_result"
    },
    {
     "data": {
      "text/plain": [
       "'{\"segment\":{\"id\":25514140,\"name\":\"test____segment_geo_04\",\"type\":\"geo\",\"status\":\"is_processed\",\"create_time\":\"2022-08-05T17:33:21+03:00\",\"owner\":\"smbz-demis\",\"has_guests\":false,\"guest_quantity\":0,\"can_create_dependent\":false,\"has_derivatives\":false,\"geo_segment_type\":\"condition\",\"times_quantity\":1,\"period_length\":10,\"form\":\"circle\",\"radius\":500,\"points\":[{\"latitude\":55.913569,\"longitude\":37.573879,\"description\":\"Ashan_2\"}],\"guest\":false}}'"
      ]
     },
     "execution_count": 8,
     "metadata": {},
     "output_type": "execute_result"
    }
   ],
   "source": [
    "# https://yandex.ru/dev/audience/doc/segments/creategeo.html\n",
    "\n",
    "URL = \"https://api-audience.yandex.ru/v1/management/segments/create_geo?\"\n",
    "\n",
    "point_1 = {}\n",
    "point_1['latitude'] = 55.913569\n",
    "point_1['longitude'] = 37.573879\n",
    "point_1['description'] = \"Ashan_2\"\n",
    "\n",
    "body = {}\n",
    "body['segment'] = {}\n",
    "body['segment']['name'] = \"test____segment_geo_04\"\n",
    "# Не менее 500 метров, иначе - impossible to create geo segment with radius that is less than 500\n",
    "body['segment']['radius'] = 500\n",
    "body['segment']['points'] = [point_1]\n",
    "\n",
    "# Период посещений указанных мест. Параметр необходим для создания условия «Пользователь посетил указанные места N раз за период».\n",
    "# Допустимые значения периода (в сутках): от 1 до 90 (включительно).\n",
    "body['segment']['period_length'] = 10\n",
    "\n",
    "# Частота посещений указанных мест. Параметр необходим для создания условия «Пользователь посетил указанные места N раз за период».\n",
    "# Примечание: Учитывается только одно посещение в сутки\n",
    "body['segment']['times_quantity'] = 1\n",
    "\n",
    "# Тип координат для создания сегмента.\n",
    "# last — актуальные координаты. В сегмент попадут пользователи, которые находятся на выбранной территории прямо сейчас, \n",
    "#         или находились там не более часа назад.\n",
    "# regular — регулярные координаты. В сегмент попадут пользователи, которые регулярно бывают на выбранной территории. \n",
    "#     Например, живут или работают рядом. При подборе учитываются данные за последние 45 дней.\n",
    "# home — координаты дома. В сегмент попадут пользователи, которые живут на выбранной территории.\n",
    "# work — координаты работы. В сегмент попадут пользователи, которые работают на выбранной территории.\n",
    "# condition — условие «Пользователь посетил указанные места N раз за период». \n",
    "#     В сегмент попадут пользователи, которые выполнили заданное условие.\n",
    "body['segment']['geo_segment_type'] = 'condition'\n",
    "\n",
    "# конвертируем словарь в JSON-формат и перекодируем в UTF-8\n",
    "body = json.dumps(body, ensure_ascii=False).encode('utf8')\n",
    "\n",
    "req = requests.post(URL, body, headers=headers)\n",
    "req\n",
    "req.text"
   ]
  },
  {
   "cell_type": "markdown",
   "id": "fa02d128",
   "metadata": {},
   "source": [
    "### через ya-api"
   ]
  },
  {
   "cell_type": "code",
   "execution_count": 43,
   "id": "ec6a5c1c",
   "metadata": {},
   "outputs": [
    {
     "data": {
      "text/plain": [
       "-----------------------------\n",
       "\n",
       "<SegmentObject{'id': 24748269, 'name': 'test____segment_geo_04', 'type': 'geo', 'status': 'is_processed', 'create_time': datetime.datetime(2022, 7, 20, 13, 23, 28, tzinfo=datetime.timezone(datetime.timedelta(seconds=10800))), 'owner': 'smbz-demis', 'has_guests': False, 'guest_quantity': 0, 'can_create_dependent': False, 'has_derivatives': False, 'cookies_matched_quantity': None, 'hashed': None, 'content_type': None, 'item_quantity': None, 'valid_unique_quantity': None, 'valid_unique_percentage': None, 'matched_quantity': None, 'matched_percentage': None, 'counter_id': None, 'guest': False}>\n",
       "\n",
       "-----------------------------"
      ]
     },
     "execution_count": 43,
     "metadata": {},
     "output_type": "execute_result"
    }
   ],
   "source": [
    "point_1 = {}\n",
    "point_1['latitude'] = 55.913569\n",
    "point_1['longitude'] = 37.573879\n",
    "point_1['description'] = \"Ashan\"\n",
    "\n",
    "body = {}\n",
    "body['segment'] = {}\n",
    "body['segment']['name'] = \"test____segment_geo_04\"\n",
    "body['segment']['radius'] = 350\n",
    "body['segment']['points'] = [point_1]\n",
    "body['segment']['geo_segment_type'] = \"last\"\n",
    "\n",
    "# конвертируем словарь в JSON-формат и перекодируем в UTF-8\n",
    "body = json.dumps(body, ensure_ascii=False)\n",
    "\n",
    "ya.segments_create_geo(body)"
   ]
  },
  {
   "cell_type": "code",
   "execution_count": null,
   "id": "d99e3fec",
   "metadata": {},
   "outputs": [],
   "source": []
  },
  {
   "cell_type": "markdown",
   "id": "29b94b4a",
   "metadata": {},
   "source": [
    "## create_geo_polygon - Создание сегмента с типом «геолокация-полигоны»"
   ]
  },
  {
   "cell_type": "code",
   "execution_count": 4,
   "id": "56f6f22f",
   "metadata": {
    "scrolled": true
   },
   "outputs": [
    {
     "data": {
      "text/plain": [
       "<Response [200]>"
      ]
     },
     "execution_count": 4,
     "metadata": {},
     "output_type": "execute_result"
    },
    {
     "data": {
      "text/plain": [
       "'{\"segment\":{\"id\":25148605,\"name\":\"test____Ashan_Lerua\",\"type\":\"geo\",\"status\":\"is_processed\",\"create_time\":\"2022-07-28T09:00:24+03:00\",\"owner\":\"smbz-demis\",\"has_guests\":false,\"guest_quantity\":0,\"can_create_dependent\":false,\"has_derivatives\":false,\"geo_segment_type\":\"condition\",\"times_quantity\":1,\"period_length\":10,\"form\":\"polygon\",\"polygons\":[{\"points\":[{\"latitude\":55.913832,\"longitude\":37.575961},{\"latitude\":55.916601,\"longitude\":37.572339},{\"latitude\":55.913379,\"longitude\":37.568325},{\"latitude\":55.911825,\"longitude\":37.570004},{\"latitude\":55.913832,\"longitude\":37.575961}]}],\"guest\":false}}'"
      ]
     },
     "execution_count": 4,
     "metadata": {},
     "output_type": "execute_result"
    }
   ],
   "source": [
    "# https://yandex.ru/dev/audience/doc/segments/creategeopolygon.html\n",
    "\n",
    "# В качестве примера Ашан+ЛеруаМерлен:\n",
    "    # https://yandex.ru/maps/1/moscow-and-moscow-oblast/geo/torgovo_promyshlennaya_zona_altufyevo/1965322886/?indoorLevel=1&ll=37.573310%2C55.913935&mode=search&sctx=ZAAAAAgBEAAaKAoSCa%2FOMSB7s0JAEYyjchO17EtAEhIJ1lOrr64K5T8Rt5ifG5qyyz8iBgABAgMEBSgKOABApIIGSAFiK3JlYXJyPXNjaGVtZV9Mb2NhbC9HZW8vRW5hYmxlQmVhdXR5RmlsdGVyPTFqAnJ1nQHNzEw9oAEAqAEAvQFmLpdowgEGro297osD6gEA8gEA%2BAEAggII0LDRiNCw0L2KAgCSAgCaAgxkZXNrdG9wLW1hcHM%3D&sll=37.573310%2C55.913935&sspn=0.013557%2C0.004454&text=%D0%B0%D1%88%D0%B0%D0%BD&z=16.62\n",
    "\n",
    "URL = \"https://api-audience.yandex.ru/v1/management/segments/create_geo_polygon\"\n",
    "\n",
    "# Задаем 5 координаты ПОЛИГОНА\n",
    "point_1 = {}\n",
    "point_1['latitude'] = 55.913832\n",
    "point_1['longitude'] = 37.575961\n",
    "point_1['description'] = \"point_1\"\n",
    "\n",
    "point_2 = {}\n",
    "point_2['latitude'] = 55.916601\n",
    "point_2['longitude'] = 37.572339\n",
    "point_2['description'] = \"point_2\"\n",
    "\n",
    "point_3 = {}\n",
    "point_3['latitude'] = 55.913379\n",
    "point_3['longitude'] = 37.568325\n",
    "point_3['description'] = \"point_3\"\n",
    "\n",
    "point_4 = {}\n",
    "point_4['latitude'] = 55.911825\n",
    "point_4['longitude'] = 37.570004\n",
    "point_4['description'] = \"point_4\"\n",
    "\n",
    "# Строим один полигон (может быть 10)\n",
    "polygon_1 = {}\n",
    "polygon_1['points'] = [point_1, point_2, point_3, point_4, point_1]\n",
    "\n",
    "# Тело запроса\n",
    "body = {}\n",
    "body['segment'] = {}\n",
    "body['segment']['name'] = \"test____Ashan_Lerua\"\n",
    "# В списке - не более 10 полигонов\n",
    "body['segment']['polygons'] = [polygon_1]\n",
    "\n",
    "# Период посещений указанных мест. Параметр необходим для создания условия «Пользователь посетил указанные места N раз за период».\n",
    "# Допустимые значения периода (в сутках): от 1 до 90 (включительно).\n",
    "body['segment']['period_length'] = 10\n",
    "\n",
    "# Частота посещений указанных мест. Параметр необходим для создания условия «Пользователь посетил указанные места N раз за период».\n",
    "# Примечание: Учитывается только одно посещение в сутки\n",
    "body['segment']['times_quantity'] = 1\n",
    "\n",
    "# Тип координат для создания сегмента.\n",
    "# last — актуальные координаты. В сегмент попадут пользователи, которые находятся на выбранной территории прямо сейчас, \n",
    "#         или находились там не более часа назад.\n",
    "# regular — регулярные координаты. В сегмент попадут пользователи, которые регулярно бывают на выбранной территории. \n",
    "#     Например, живут или работают рядом. При подборе учитываются данные за последние 45 дней.\n",
    "# home — координаты дома. В сегмент попадут пользователи, которые живут на выбранной территории.\n",
    "# work — координаты работы. В сегмент попадут пользователи, которые работают на выбранной территории.\n",
    "# condition — условие «Пользователь посетил указанные места N раз за период». \n",
    "#     В сегмент попадут пользователи, которые выполнили заданное условие.\n",
    "body['segment']['geo_segment_type'] = 'condition'\n",
    "\n",
    "# конвертируем словарь в JSON-формат и перекодируем в UTF-8\n",
    "body = json.dumps(body, ensure_ascii=False).encode('utf8')\n",
    "\n",
    "req = requests.post(URL, body, headers=headers)\n",
    "req\n",
    "req.text"
   ]
  },
  {
   "cell_type": "code",
   "execution_count": null,
   "id": "08a743b5",
   "metadata": {},
   "outputs": [],
   "source": []
  },
  {
   "cell_type": "markdown",
   "id": "2cdc0ea5",
   "metadata": {},
   "source": [
    "### через ya-api"
   ]
  },
  {
   "cell_type": "code",
   "execution_count": 3,
   "id": "6b57beb6",
   "metadata": {},
   "outputs": [
    {
     "data": {
      "text/plain": [
       "-----------------------------\n",
       "\n",
       "<SegmentObject{'id': 24309942, 'name': 'test____segment_geo_12', 'type': 'geo', 'status': 'is_processed', 'create_time': datetime.datetime(2022, 7, 12, 10, 40, 2, tzinfo=datetime.timezone(datetime.timedelta(seconds=10800))), 'owner': 'smbz-demis', 'has_guests': False, 'guest_quantity': 0, 'can_create_dependent': False, 'has_derivatives': False, 'cookies_matched_quantity': None, 'hashed': None, 'content_type': None, 'item_quantity': None, 'valid_unique_quantity': None, 'valid_unique_percentage': None, 'matched_quantity': None, 'matched_percentage': None, 'counter_id': None, 'guest': False}>\n",
       "\n",
       "-----------------------------"
      ]
     },
     "execution_count": 3,
     "metadata": {},
     "output_type": "execute_result"
    }
   ],
   "source": [
    "point_1 = {}\n",
    "point_1['latitude'] = 67.812948\n",
    "point_1['longitude'] = 49.650164\n",
    "point_1['description'] = \"test_comment_02\"\n",
    "\n",
    "body = {}\n",
    "body['segment'] = {}\n",
    "body['segment']['name'] = \"test____segment_geo_03\"\n",
    "body['segment']['radius'] = 2000\n",
    "body['segment']['points'] = [point_1]\n",
    "body['segment']['geo_segment_type'] = \"last\"\n",
    "\n",
    "# конвертируем словарь в JSON-формат и перекодируем в UTF-8\n",
    "body = json.dumps(body, ensure_ascii=False)\n",
    "\n",
    "ya.segments_create_geo(body)"
   ]
  },
  {
   "cell_type": "code",
   "execution_count": null,
   "id": "14d10302",
   "metadata": {},
   "outputs": [],
   "source": []
  },
  {
   "cell_type": "markdown",
   "id": "636a55e2",
   "metadata": {},
   "source": [
    "# upload_csv_file - Создать сегмент из CSV-файла"
   ]
  },
  {
   "cell_type": "markdown",
   "id": "85e38869",
   "metadata": {},
   "source": [
    "Создает сегмент из файла с данными. В файле должно быть не менее 100 записей"
   ]
  },
  {
   "cell_type": "code",
   "execution_count": 4,
   "id": "1eac9a70",
   "metadata": {},
   "outputs": [
    {
     "data": {
      "text/plain": [
       "{'segment': {'id': 25319859,\n",
       "  'type': 'uploading',\n",
       "  'status': 'uploaded',\n",
       "  'has_guests': False,\n",
       "  'guest_quantity': 0,\n",
       "  'can_create_dependent': False,\n",
       "  'has_derivatives': False,\n",
       "  'hashed': False,\n",
       "  'item_quantity': 4715,\n",
       "  'guest': False}}"
      ]
     },
     "execution_count": 4,
     "metadata": {},
     "output_type": "execute_result"
    }
   ],
   "source": [
    "# https://yandex.ru/dev/audience/doc/segments/uploadcsvfile.html\n",
    "file_name = \"csv/clusters.csv\"\n",
    "\n",
    "URL = \"https://api-audience.yandex.ru/v1/management/segments/upload_csv_file\"\n",
    "headers = {\"Authorization\": f\"OAuth {token_YM}\"}\n",
    "file = open(file_name,\"r\").read()\n",
    "body = {'file': file} \n",
    "\n",
    "req = requests.post(URL, files=body, headers=headers).json()\n",
    "req"
   ]
  },
  {
   "cell_type": "code",
   "execution_count": null,
   "id": "c0ed6af5",
   "metadata": {},
   "outputs": [],
   "source": []
  },
  {
   "cell_type": "markdown",
   "id": "29ef875d",
   "metadata": {},
   "source": [
    "# вар_1 Сохранения сегмента, созданного из файла"
   ]
  },
  {
   "cell_type": "code",
   "execution_count": 12,
   "id": "878111ee",
   "metadata": {},
   "outputs": [
    {
     "data": {
      "text/plain": [
       "<Response [504]>"
      ]
     },
     "execution_count": 12,
     "metadata": {},
     "output_type": "execute_result"
    },
    {
     "data": {
      "text/plain": [
       "'Service unavailable'"
      ]
     },
     "execution_count": 12,
     "metadata": {},
     "output_type": "execute_result"
    }
   ],
   "source": [
    "# https://yandex.ru/dev/audience/doc/segments/confirm.html\n",
    "\n",
    "segmentId = 24733341\n",
    "URL = f\"https://api-audience.yandex.ru/v1/management/segment/{segmentId}/confirm\"\n",
    "\n",
    "body = {}\n",
    "body['segment'] = {}\n",
    "body['segment']['name'] = \"test____segment_csv_04\"\n",
    "\n",
    "# Является ли захешированной каждая строка загруженного файла.\n",
    "# Возможные значения: 0 — строка не захеширована; 1 — строка захеширована.\n",
    "body['segment']['hashed'] = 0\n",
    "\n",
    "# Вид содержимого файла.\n",
    "# Возможные значения: idfa_gaid — идентификаторы устройств; mac — MAC-адреса; crm — CRM-данные.\n",
    "body['segment']['content_type'] = \"crm\" \n",
    "\n",
    "# конвертируем словарь в JSON-формат и перекодируем в UTF-8\n",
    "body = json.dumps(body, ensure_ascii=False).encode('utf8')\n",
    "\n",
    "req = requests.post(URL, body, headers=headers)\n",
    "req\n",
    "req.text"
   ]
  },
  {
   "cell_type": "code",
   "execution_count": null,
   "id": "4ee1a2a1",
   "metadata": {},
   "outputs": [],
   "source": []
  },
  {
   "cell_type": "markdown",
   "id": "7d320924",
   "metadata": {},
   "source": [
    "# вар_2 Сохранения сегмента, созданного из файла (из ClientId Метрики)"
   ]
  },
  {
   "cell_type": "code",
   "execution_count": 5,
   "id": "34677e6b",
   "metadata": {},
   "outputs": [
    {
     "data": {
      "text/plain": [
       "<Response [200]>"
      ]
     },
     "execution_count": 5,
     "metadata": {},
     "output_type": "execute_result"
    },
    {
     "data": {
      "text/plain": [
       "'{\"segment\":{\"id\":25319859,\"name\":\"test____segment_csv_07__4715\",\"type\":\"uploading\",\"status\":\"is_processed\",\"create_time\":\"2022-08-01T23:30:48+03:00\",\"owner\":\"smbz-demis\",\"has_guests\":false,\"guest_quantity\":0,\"can_create_dependent\":false,\"has_derivatives\":false,\"hashed\":false,\"content_type\":\"client_id\",\"item_quantity\":4715,\"valid_unique_quantity\":4715,\"valid_unique_percentage\":\"100%\",\"counter_id\":65071099,\"guest\":false}}'"
      ]
     },
     "execution_count": 5,
     "metadata": {},
     "output_type": "execute_result"
    }
   ],
   "source": [
    "# https://yandex.ru/dev/audience/doc/segments/confirmclientid.html\n",
    "\n",
    "# id-счетчика (в Яндекс-Метрике)\n",
    "counterId = 65071099\n",
    "\n",
    "segmentId = 25319859\n",
    "URL = f\"https://api-audience.yandex.ru/v1/management/segment/client_id/{segmentId}/confirm\"\n",
    "\n",
    "body = {}\n",
    "body['segment'] = {}\n",
    "body['segment']['name'] = \"test____segment_csv_07__4715\"\n",
    "\n",
    "body['segment']['counter_id'] = counterId\n",
    "\n",
    "\n",
    "# Является ли захешированной каждая строка загруженного файла.\n",
    "# Возможные значения: 0 — строка не захеширована; 1 — строка захеширована.\n",
    "body['segment']['hashed'] = 0\n",
    "\n",
    "# Вид содержимого файла.\n",
    "# Возможные значения: idfa_gaid — идентификаторы устройств; mac — MAC-адреса; crm — CRM-данные.\n",
    "body['segment']['content_type'] = \"crm\" \n",
    "\n",
    "# конвертируем словарь в JSON-формат и перекодируем в UTF-8\n",
    "body = json.dumps(body, ensure_ascii=False).encode('utf8')\n",
    "\n",
    "req = requests.post(URL, body, headers=headers)\n",
    "req\n",
    "req.text"
   ]
  },
  {
   "cell_type": "code",
   "execution_count": null,
   "id": "9e5873c1",
   "metadata": {},
   "outputs": [],
   "source": []
  },
  {
   "cell_type": "code",
   "execution_count": null,
   "id": "a5103e2a",
   "metadata": {},
   "outputs": [],
   "source": []
  },
  {
   "cell_type": "markdown",
   "id": "f89cd7b6",
   "metadata": {},
   "source": [
    "# create_lookalike - Создание сегмента с типом «lookalike» (похожесть)"
   ]
  },
  {
   "cell_type": "markdown",
   "id": "c816b966",
   "metadata": {},
   "source": [
    "В похожий сегмент попадут те у кого похожи на пользователей исходного сегмента:\n",
    "* Посещаемые сайты\n",
    "* Поисковые запросы\n",
    "* Соц-Дем профиль"
   ]
  },
  {
   "cell_type": "markdown",
   "id": "d69f2f0b",
   "metadata": {},
   "source": [
    "Если мы хотим расширить аудиторию, то:\n",
    "* Не рассматриваем распределение по типу устройств (maintain_device_distribution = False)\n",
    "* Не рассматриваем распределение по GEO (maintain_geo_distribution = False)\n",
    "* Уменьшаем степень схожести"
   ]
  },
  {
   "cell_type": "code",
   "execution_count": 30,
   "id": "e11272a0",
   "metadata": {},
   "outputs": [
    {
     "data": {
      "text/plain": [
       "<Response [400]>"
      ]
     },
     "execution_count": 30,
     "metadata": {},
     "output_type": "execute_result"
    },
    {
     "data": {
      "text/plain": [
       "'{\"errors\":[{\"error_type\":\"invalid_parameter\",\"message\":\"Source segment 24396340 must be processed but is not\"}],\"code\":400,\"message\":\"Source segment 24396340 must be processed but is not\"}'"
      ]
     },
     "execution_count": 30,
     "metadata": {},
     "output_type": "execute_result"
    }
   ],
   "source": [
    "# https://yandex.ru/dev/audience/doc/segments/createlookalike.html\n",
    "# https://www.youtube.com/watch?v=1TPvkIeWIdY&t=47s\n",
    "\n",
    "URL = \"https://api-audience.yandex.ru/v1/management/segments/create_lookalike\"\n",
    "\n",
    "# Идентификатор сегмента, на который должен быть похож созданный сегмент\n",
    "lookalike_link = 24396340\n",
    "\n",
    "# Степень «похожести». Принимает значения 1 2 3 4 5 (5 - максимальная похожесть (?))\n",
    "lookalike_value = 3\n",
    "\n",
    "# Распределение пользователей по типу устройств. Допустимые значения:\n",
    "# true — распределение пользователей по типу устройств сохраняется, если это возможно;\n",
    "# false — распределение пользователей по типу устройств не сохраняется.\n",
    "# Значение по умолчанию: true.\n",
    "maintain_device_distribution = True\n",
    "\n",
    "# Распределение пользователей по городу. Допустимые значения:\n",
    "# true — распределение пользователей по городу сохраняется, если это возможно;\n",
    "# false — распределение пользователей по городу не сохраняется.\n",
    "# Значение по умолчанию: true.\n",
    "maintain_geo_distribution = True\n",
    "\n",
    "\n",
    "body = {}\n",
    "body['segment'] = {}\n",
    "body['segment']['name'] = \"test____segment_lookalike_01\"\n",
    "body['segment']['lookalike_link'] = lookalike_link\n",
    "body['segment']['lookalike_value'] = lookalike_value\n",
    "# body['segment']['maintain_device_distribution'] = maintain_device_distribution\n",
    "# body['segment']['maintain_geo_distribution'] = maintain_geo_distribution\n",
    "\n",
    "# конвертируем словарь в JSON-формат и перекодируем в UTF-8\n",
    "body = json.dumps(body, ensure_ascii=False).encode('utf8')\n",
    "\n",
    "req = requests.post(URL, body, headers=headers)\n",
    "req\n",
    "req.text"
   ]
  }
 ],
 "metadata": {
  "kernelspec": {
   "display_name": "Python 3 (ipykernel)",
   "language": "python",
   "name": "python3"
  },
  "language_info": {
   "codemirror_mode": {
    "name": "ipython",
    "version": 3
   },
   "file_extension": ".py",
   "mimetype": "text/x-python",
   "name": "python",
   "nbconvert_exporter": "python",
   "pygments_lexer": "ipython3",
   "version": "3.9.7"
  }
 },
 "nbformat": 4,
 "nbformat_minor": 5
}
